{
 "cells": [
  {
   "cell_type": "markdown",
   "metadata": {},
   "source": [
    "## Practical challenges to get started and / or refresh Python 3\n",
    "The exercises below allow you to familiarize yourself (again) with programming in Python. The exercises were taken from http://www.practicepython.org/ and possibly slightly modified or invented by myself. The web site contains solutions for all exercises I took from there, but I recommend using them only you can not find a solution after having tried hard.\n",
    "\n",
    "### Exercise 1: Odd or even \n",
    "\n",
    "#### To do: \n",
    "Ask the user for a number and read it in. Depending on whether the number is even or odd, print out an appropriate message to the user. Hint: how does an even / odd number react differently when divided by 2?\n",
    "The program should repeat asking for numbers and stop if a user types any non number (e.g. a character).\n",
    "Optional extras:\n",
    "    1. If the number is a multiple of 4, print out a different message. \n",
    "    2. Ask the user for two numbers: one number to check (call it num) and one number to divide by (check). If check divides evenly into num, tell that to the user. If not, print a different appropriate message. "
   ]
  },
  {
   "cell_type": "code",
   "execution_count": 1,
   "metadata": {},
   "outputs": [
    {
     "name": "stdout",
     "output_type": "stream",
     "text": [
      "provide your number:13\n",
      "13 is an odd number\n"
     ]
    }
   ],
   "source": [
    "## This is a python script. The solution is provided as guidance.\n",
    "## Note: Lines in Python scripts or programs which start with a \n",
    "## <#> symbol are comments and do not contain code.\n",
    "n=int(input('provide your number:'))\n",
    "if (n%2)==0:\n",
    "    print(\"{0} is an even number\".format(n))\n",
    "else:\n",
    "    print(\"{0} is an odd number\".format(n))"
   ]
  },
  {
   "cell_type": "markdown",
   "metadata": {},
   "source": [
    "### Exercise 2: List comprehension\n",
    "\n",
    "#### To do:\n",
    "Assume that you are given a list saved in a variable: a = [1, 4, 9, 16, 25, 36, 49, 64, 81, 100]. Write one line of Python that takes this list a and makes a new list that has only the even elements of this list in it. Print the resulting list.\n",
    "Compulsory extra:\n",
    "    1.  For the following years_of_birth = [1990, 1991, 1990, 1990, 1992, 1991] calculate and print the approximate age (ignoring the month of birth) of all people born in the respective years. Automate your calculation by obtaining the year of the current system date with a function call."
   ]
  },
  {
   "cell_type": "code",
   "execution_count": 2,
   "metadata": {},
   "outputs": [],
   "source": [
    "## google for list comprehension and solve exercise 2 yourself. \n",
    "## Starting with the next line, your code goes here!"
   ]
  },
  {
   "cell_type": "markdown",
   "metadata": {},
   "source": [
    "### Exercise 3: Unique entries in a list\n",
    "\n",
    "#### Advise:\n",
    "We will implement this exercise as a Python function. Functions are useful for modularizing code which in general improves intelligibility of solutions of larger problems."
   ]
  },
  {
   "cell_type": "code",
   "execution_count": 3,
   "metadata": {},
   "outputs": [
    {
     "name": "stdout",
     "output_type": "stream",
     "text": [
      "a value:5\n",
      "the result is: 12\n"
     ]
    }
   ],
   "source": [
    "## template for python functions\n",
    "def my_function(param1, param2, param3='default value'):\n",
    "\t# my_function(param1, param2, param3=’default value’) is a function with\n",
    "\t# three parameters. The last parameter has a default value which we may\n",
    "\t# override if needed. Again we have to use one level of indentation \n",
    "\t# (one tabulator) to indicate the function block (all code which \n",
    "\t# the function needs to execute).\n",
    "\tlocal=param1+param2\n",
    "\tif param3 == 'default value':\n",
    "\t\t# perform default calculations\n",
    "\t\tresult=2*local\n",
    "\telse:\n",
    "\t\t# do something else.\n",
    "\t\tresult=5*local\n",
    "\treturn result\n",
    "# code after function…\n",
    "val=int(input('a value:'))\n",
    "res=my_function(1, val)  ## this is a valid call of my_function\n",
    "print(\"the result is: {0}\".format(res))"
   ]
  },
  {
   "cell_type": "markdown",
   "metadata": {},
   "source": [
    "### Exercise 3 continued\n",
    "\n",
    "#### To do:\n",
    "Implement a function which converts a list to a list of unique entries. Test this function using list1=[11,1,12,2,9,1,13,12,2,4,6] and list2=[‘Zita’, ‘Anna’, ‘Cornelia’, ‘Anton’, ‘Joseph’, ‘Anna’, ‘Maria’, ‘Anton’, ‘Cornelia’]"
   ]
  },
  {
   "cell_type": "code",
   "execution_count": 4,
   "metadata": {},
   "outputs": [],
   "source": [
    "## solve exercise 3 in this cell."
   ]
  },
  {
   "cell_type": "markdown",
   "metadata": {},
   "source": [
    "### Exercise 4: Check whether a number is prime\n",
    "\n",
    "#### Advise:\n",
    "Prime numbers are integer numbers which can only be divided (integer division without reminder) by themselves and one. \n",
    "\n",
    "#### To do:\n",
    "    1. Implement a function which does the prime number calculation. To complete this part, you have to research how Python handles integer division. You should definitely consider efficiency and minimize the number of divisions you need to do, to test whether a number is prime.\n",
    "    2. Test that function on a list from 1 to 1000, that is determine all prime numbers in that range.\n",
    "    3. Write a nice wrapper which asks the user for a number, then reports the “primeness” of that number and allows for repetitive tests until the user enters for example a character."
   ]
  },
  {
   "cell_type": "code",
   "execution_count": 5,
   "metadata": {},
   "outputs": [],
   "source": [
    "## solve exercise 4 in this cell."
   ]
  },
  {
   "cell_type": "markdown",
   "metadata": {},
   "source": [
    "### Exercise 5: Reverse the order of words in a string\n",
    "\n",
    "#### Advise:\n",
    "A Python string like “Perl is an acronym for Pathologically Eclectic Rubbish Lister” should be split on so called “white space characters” (eg. blank, tabulator and newline character). The resulting list should be reverted and concatenated to a string.\n",
    "\n",
    "#### To do:\n",
    "    1. Implement a function which accepts a string as argument and returns a string with word order reversed.\n",
    "    2. Test that function on the string “I love Perl for being an acronym for Pathologically Eclectic Rubbish Lister”.\n",
    "    3. Write a nice wrapper which asks the user for a string, then prints the string with word order reversed and allows for repetitive executions until the user enters a designated stop code."
   ]
  },
  {
   "cell_type": "code",
   "execution_count": 6,
   "metadata": {},
   "outputs": [],
   "source": [
    "## solve exercise 5 in this cell."
   ]
  },
  {
   "cell_type": "markdown",
   "metadata": {},
   "source": [
    "### Exercise 6: Cows and Bulls\n",
    "\n",
    "#### Advise:\n",
    "If a python script is passed to the interpreter it is the so called main script and the interpreted defines a variable \\_\\_name\\_\\_ to have the value “\\_\\_main\\_\\_”. Note that both the variable and the value have two leading and two trailing underscore characters. This allows you to write a dual purpose .py file: if passed to the Python interpreter via command line or the development environment the file acts like a script which executes commands under an alternative which tests \\_\\_name\\_\\_ for “\\_\\_main\\_\\_”. If we load the same .py file via an import statement the file acts like a library of definitions which may then be used by the importing script.\n",
    "Cows and Bulls is a game which generates a random integer with 4 digits (0000 to 9999) and allows the user to repeatedly guess the correct number. After every guess the program displays the number of “cows”: all numbers which were correctly predicted at the correct position and the number of “bulls”: all numbers which were predicted correctly but have the wrong position.\n",
    "\n",
    "#### To do:\n",
    "    1. Implement a function which calculates the number of cows and bulls in dependence of the randomly chosen (but then fixed) number of the current game and a user provided number.\n",
    "    2. Implement a nice interface to that function which asks for a number and reports the result. The code obviously requires a loop which should allow for termination.\n",
    "    3. Test that the code works from the command line and test what happens, if you import the function from 1. which calculates number of cows and bulls."
   ]
  },
  {
   "cell_type": "code",
   "execution_count": 7,
   "metadata": {},
   "outputs": [],
   "source": [
    "## solve exercise 6 in this cell."
   ]
  },
  {
   "cell_type": "markdown",
   "metadata": {},
   "source": [
    "### Exercise 7: Overlap among lists\n",
    "\n",
    "#### Advise:\n",
    "This exercise is mainly a repetition of previous material. It is worth noting that combining evidence from mRNA expression and protein abundance is a highly similar challenge. Such situations require parsing data tables for entries which measure matching transcript – protein pairs. \n",
    "\n",
    "#### To do:\n",
    "    1. Implement a function which accepts two lists and returns the overlap among the two lists. The overlap refers to all elements found in both lists. \n",
    "    2. Implement the function in 1. using list comprehension.\n",
    "    3. Implement a second function which determines the overlap of two lists with unique entries and also returns the positions of the overlap in both original lists."
   ]
  },
  {
   "cell_type": "code",
   "execution_count": 8,
   "metadata": {},
   "outputs": [],
   "source": [
    "## solve exercise 7 in this cell."
   ]
  },
  {
   "cell_type": "markdown",
   "metadata": {},
   "source": [
    "### Exercise 8: Functional programming\n",
    "\n",
    "#### Advise: \n",
    "Python has mechanisms for functional programming which you should research yourself (keywords are lambda functions, filter reduce and map).\n",
    "\n",
    "#### To do:\n",
    "    1. Implement a function which converts all characters in a string to upper case. (a→A etc.)\n",
    "    2. Implement a function which calculates the sum of entries in a list.\n",
    "    3. Implement a function which calculates the log factorial of an integer number."
   ]
  },
  {
   "cell_type": "code",
   "execution_count": 9,
   "metadata": {},
   "outputs": [],
   "source": [
    "## solve exercise 8 in this cell."
   ]
  }
 ],
 "metadata": {
  "kernelspec": {
   "display_name": "Python 3",
   "language": "python",
   "name": "python3"
  },
  "language_info": {
   "codemirror_mode": {
    "name": "ipython",
    "version": 3
   },
   "file_extension": ".py",
   "mimetype": "text/x-python",
   "name": "python",
   "nbconvert_exporter": "python",
   "pygments_lexer": "ipython3",
   "version": "3.6.8"
  }
 },
 "nbformat": 4,
 "nbformat_minor": 2
}
