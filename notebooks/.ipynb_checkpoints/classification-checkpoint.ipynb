{
 "cells": [
  {
   "cell_type": "markdown",
   "metadata": {
    "colab_type": "text",
    "id": "XjGm5gYEIBfH"
   },
   "source": [
    "# Classification\n",
    "\n",
    "Fitting classifiers is one of the most common applications of machine learning. Many popular machine learning tools like support vector machines, random forests, gaussian process classifiers or deep learning architectures for discrete predictions fall into this category.\n",
    "\n",
    "## Recommendations for fitting classifiers\n",
    "\n",
    "The most important advise for fitting classifiers is not to judge a solution on the basis of fitting a single method. From the \"no free lunch theorem\" we know that methods which necessarily make assumptions will sometimes fit to a problem at hand and sometimes fail in delivering good results. Scores like \"generalisation accuracy\" depend moreover on the difficulty of the problem. It is thus also impossible to judge whether an accuracy of 90% is good or bad. Observing 90% accuracy with a support vector (or any other) classifier will for example be rather bad, if the data at hand has a majority class which labels 95% of all samples. On the other hand it will be reasonable good if our problem has balanced class labels. The conclusion is thus that we should investigate a problem with as many different methods as possible which provides us more confidence that a solution makes sense. For the experts we should add that selecting the best from several classifiers is a learning problem in its own right and has thus a tendency to overfit. The true generalisation performance of the best method will thus be worse than our estimate. \n",
    "\n",
    "## TCGA-GBM expression data\n",
    "\n",
    "The demo below puts the idea of comparing classifiers to practice. We use to this end a dataset which was obtained from TCGA Glioblastoma Affymetrix U133A arrays. The data is quality checked, RMA processed, vsn transformed and location scale adjusted. We subsequently selected around 500 Ensemble genes from the entire array. To demonstrate classification we approach the relatively simple problem of discriminating normal samples from GBM samples.\n",
    "\n",
    "## Loading the data"
   ]
  },
  {
   "cell_type": "code",
   "execution_count": 8,
   "metadata": {
    "colab": {
     "base_uri": "https://localhost:8080/",
     "height": 90
    },
    "colab_type": "code",
    "executionInfo": {
     "elapsed": 1974,
     "status": "ok",
     "timestamp": 1584536830346,
     "user": {
      "displayName": "Peter Sykacek",
      "photoUrl": "https://lh3.googleusercontent.com/a-/AOh14GjlnOmz-mwhW_nTISUz7jStWDjRmDok37MkxknQ=s64",
      "userId": "03469838921117712238"
     },
     "user_tz": -60
    },
    "id": "8H4GfvT5IBfS",
    "outputId": "dd3005bf-2e4e-4124-818a-fbad0ca1ff32"
   },
   "outputs": [
    {
     "name": "stdout",
     "output_type": "stream",
     "text": [
      "Drive already mounted at /content/drive; to attempt to forcibly remount, call drive.mount(\"/content/drive\", force_remount=True).\n",
      "map2log\n",
      "{'Solid Tissue Normal', 'Primary Tumor'}\n",
      "zero one coding: we code Solid Tissue Normal as 1.\n"
     ]
    }
   ],
   "source": [
    "## decide whether we run code in google colab amd access the google drive or \n",
    "## whether we run locally\n",
    "incolab=True\n",
    "if incolab:\n",
    "  ## we mount the drive and set the basepath\n",
    "  from google.colab import drive\n",
    "  drive.mount('/content/drive')\n",
    "  basepath=\"/content/drive/My Drive/exercise4colab.4students/\"\n",
    "else:\n",
    "  ## we run locally and basepath is the parent directory \n",
    "  basepath=\"../\"\n",
    "### ml_lib.py resides in <basepath>/course.lib and contains course relevant\n",
    "### library functions. To allw loading it we set a temporary path to\n",
    "### the directory\n",
    "import sys\n",
    "sys.path.append(basepath+\"course.lib/\")\n",
    "import ml_lib as mlib\n",
    "## generic imports\n",
    "import sklearn\n",
    "import numpy as np\n",
    "import pandas as pd\n",
    "## We implement a classifier for selected GBM Affymetrix sample type\n",
    "## specific genes. The data is quality checked, vsn transformed and ls\n",
    "## normalised.\n",
    "fnambase=basepath+\"course_data/GBM_AFFY_nrm_samplesel\"\n",
    "## set up an eset (synonymous to bioconductor esets)\n",
    "gbmeset=mlib.PyEset()\n",
    "## load the data using defaults (log 2 scale)\n",
    "gbmeset.loadfromfile(fnambase)\n",
    "## convert it to sklearn compatible data (split as input and target)\n",
    "## The matrices which result from gbmeset.tolabeleddata(labelcol) match\n",
    "## sklearn assumptions that rows are samples and columns are features.\n",
    "labelcol=\"sample_type\"\n",
    "data4ml=gbmeset.tolabeleddata(labelcol)\n",
    "X=data4ml[\"X\"]\n",
    "## y is here a one dimensional np.array of strings.\n",
    "y=data4ml[\"Y\"]\n",
    "print(set(y))\n",
    "## type cast to get unique entries in y\n",
    "labels=list(set(y))\n",
    "\n",
    "trg=np.array([0]*len(y))\n",
    "trg[y==labels[0]]=1\n",
    "print(\"zero one coding: we code {0} as {1}.\".format(labels[0], 1))"
   ]
  },
  {
   "cell_type": "markdown",
   "metadata": {
    "colab_type": "text",
    "id": "q2yc7mCVIBfy"
   },
   "source": [
    "## Fitting a k nearest neighbour classifier\n",
    "To obtain a model which allows predicting whether an expression vector is either a 'Solid Tissue Normal' or a 'Primary Tumor' we use a so called \"k nearest neighbour\" (knn) classifier. The knn classifier is a non parametric model which investigates for every test sample the labels of the k nearest neighbours in the training data. Its simplest implementation does not require any learning. More advanced approaches remove samples from the training data in a manner which keeps predictions invariant. The predictions of a knn classifier depend on the distance metric and more importantly on the value of \"k\", with larger k values providing smoother decision boundaries.\n",
    "\n",
    "A noteworthy property of the knn classifier is its guarantee to approch Bayes optimal performance in the limit of infinite training samples N, for k approaching infinity while k/N remaining finite (e.g. set k=log(N)). In the more important finite sample setting we need to investigate different values for k.\n",
    "\n",
    "## A knn classifier with sklearn"
   ]
  },
  {
   "cell_type": "code",
   "execution_count": null,
   "metadata": {
    "colab": {},
    "colab_type": "code",
    "id": "omGpilBuIBf3"
   },
   "outputs": [],
   "source": [
    "from sklearn.neighbors import KNeighborsClassifier as KNN\n",
    "from sklearn.model_selection import cross_val_predict as cvp\n",
    "from sklearn.model_selection import KFold\n",
    "maxK=20\n",
    "#make sure maxK is tested\n",
    "krange=range(1, maxK+1)\n",
    "# robustness by randomly permuting the order of samples\n",
    "nrandpermit=10\n",
    "# we use 20 for cross validation of k\n",
    "nfolds=20\n",
    "# store for McNemar p-values when comparing knn against the default accuracy\n",
    "allkpval=np.zeros((nrandpermit, len(list(krange))))\n",
    "# accuracy of knn for varying k\n",
    "allkacc=np.zeros((nrandpermit, len(list(krange))))\n",
    "# accuracy of default classifier \n",
    "alldefacc=np.zeros((nrandpermit, 1))\n",
    "for it in range(nrandpermit):\n",
    "    ckpval=np.zeros((1, len(list(krange))))\n",
    "    ckacc=np.zeros((1, len(list(krange))))\n",
    "    # KFold iterator with random reshuffling\n",
    "    cvp_cv = KFold(n_splits=nfolds, shuffle=True, random_state=it)\n",
    "    # default cross validated predictions from DefClassifier\n",
    "    cdefpred=cvp(mlib.DefClassifier(), X, trg, cv=cvp_cv)\n",
    "    alldefacc[it, 0]=sum(cdefpred==trg)/len(trg)\n",
    "    for id, k in enumerate(krange):\n",
    "        # get KNN predictions by cvp n_jobs -1: all cores in parallel\n",
    "        cpred=cvp(KNN(n_neighbors=k), X, trg, cv=cvp_cv, n_jobs=10)\n",
    "        # calculate perdictive accuracy\n",
    "        ckacc[0, id]=sum(cpred==trg)/len(trg)\n",
    "        # call McNemar to get p-value of outperforming default accuracy\n",
    "        na, nb=mlib.lab2cnt(cdefpred, cpred, trg)\n",
    "        ckpval[0, id]=mlib.mcnemar(na, nb)\n",
    "    # store p-values and accuracies for current random permutation\n",
    "    allkpval[it, :]=ckpval[0, :]\n",
    "    allkacc[it, :]=ckacc[0, :]"
   ]
  },
  {
   "cell_type": "markdown",
   "metadata": {
    "colab_type": "text",
    "id": "2eZeVGl7IBgH"
   },
   "source": [
    "## Performance estimates\n",
    "The next cell visualises performance estimates by two plots. An important question you should ask yourself is whether we may expect that the knn generalisation accuracy for optimal k in the plot below is what we may expect to see in subsequent applications of this classifier?"
   ]
  },
  {
   "cell_type": "code",
   "execution_count": 10,
   "metadata": {
    "colab": {
     "base_uri": "https://localhost:8080/",
     "height": 295
    },
    "colab_type": "code",
    "executionInfo": {
     "elapsed": 85785,
     "status": "ok",
     "timestamp": 1584536914194,
     "user": {
      "displayName": "Peter Sykacek",
      "photoUrl": "https://lh3.googleusercontent.com/a-/AOh14GjlnOmz-mwhW_nTISUz7jStWDjRmDok37MkxknQ=s64",
      "userId": "03469838921117712238"
     },
     "user_tz": -60
    },
    "id": "4riYSRIYIBgN",
    "outputId": "240359b3-64da-4fda-e25d-ccd0880a755f"
   },
   "outputs": [
    {
     "data": {
      "image/png": "[encoded data removed]",
      "text/plain": [
       "<Figure size 432x288 with 2 Axes>"
      ]
     },
     "metadata": {
      "tags": []
     },
     "output_type": "display_data"
    }
   ],
   "source": [
    "# calculations done, now we visualise minimum and maximum accuracy of the kNN\n",
    "# and in the second subplot minimum and maximum p-value when comparing against the default\n",
    "# classifier (majority vote).\n",
    "import matplotlib.pyplot as plt\n",
    "from matplotlib.backends.backend_pdf import PdfPages\n",
    "myfig=plt.figure()\n",
    "plt.subplots_adjust(hspace = 0.6)  ## adjust spacing between subplots\n",
    "plt.subplot(211)\n",
    "plt.plot(list(krange), np.min(allkacc, axis=0), 'g--', linewidth=3, label='min acc.')\n",
    "plt.plot(list(krange), np.mean(allkacc, axis=0), 'g-', linewidth=3, label='av acc.')\n",
    "plt.plot(list(krange), np.max(allkacc, axis=0), 'g:', linewidth=3, label='max acc.')\n",
    "plt.ylabel(\"Gen. Acc.\", fontsize=\"14\")\n",
    "plt.legend(loc=0)\n",
    "plt.title(\"KNN generalisation accuracy\", x=.5, y=1.1, fontsize=\"15\")\n",
    "plt.subplot(212)\n",
    "plt.plot(list(krange), np.min(allkpval, axis=0), 'g--', linewidth=3, label='most sig.')\n",
    "plt.plot(list(krange), np.mean(allkpval, axis=0), 'g-', linewidth=3, label='av sig.')\n",
    "plt.plot(list(krange), np.max(allkpval, axis=0), 'g:', linewidth=3, label='least sig.')\n",
    "plt.ylabel(\"McNemar p-value\", fontsize=\"14\")\n",
    "plt.legend(loc=0)\n",
    "plt.title(\"KNN vs. majority vote\", x=.5, y=1.1, fontsize=\"15\")\n",
    "\n",
    "plt.show()\n",
    "with PdfPages(basepath+'resfigs/sklearn_KNNvsDef.pdf') as pdf:\n",
    "    pdf.savefig(myfig)"
   ]
  },
  {
   "cell_type": "markdown",
   "metadata": {
    "colab_type": "text",
    "id": "CPakxizsIBgd"
   },
   "source": [
    "## Assessment and suggestion for improvement\n",
    "The above plot suggests that the best accuracy is obtained with k=1, that is with the most complex decision boundary a knn classifier allows us to represent. The answer to the previous question is that the generalisation performance we obtain with k=1 may be below the observed value as we plot biased estimates. For the graph to be unbiased we should nest cross validation of k properly within estimating the generalisation accuracy."
   ]
  },
  {
   "cell_type": "code",
   "execution_count": 11,
   "metadata": {
    "colab": {
     "base_uri": "https://localhost:8080/",
     "height": 384
    },
    "colab_type": "code",
    "executionInfo": {
     "elapsed": 561713,
     "status": "ok",
     "timestamp": 1584537390147,
     "user": {
      "displayName": "Peter Sykacek",
      "photoUrl": "https://lh3.googleusercontent.com/a-/AOh14GjlnOmz-mwhW_nTISUz7jStWDjRmDok37MkxknQ=s64",
      "userId": "03469838921117712238"
     },
     "user_tz": -60
    },
    "id": "ymWhGZavIBgh",
    "outputId": "6d691817-262e-44df-fd75-c1d93dd6c2a8"
   },
   "outputs": [
    {
     "name": "stdout",
     "output_type": "stream",
     "text": [
      "run: 0\n",
      "run: 1\n",
      "run: 2\n",
      "run: 3\n",
      "run: 4\n",
      "run: 5\n",
      "run: 6\n",
      "run: 7\n",
      "run: 8\n",
      "run: 9\n",
      "run: 10\n",
      "run: 11\n",
      "run: 12\n",
      "run: 13\n",
      "run: 14\n",
      "run: 15\n",
      "run: 16\n",
      "run: 17\n",
      "run: 18\n",
      "run: 19\n"
     ]
    }
   ],
   "source": [
    "## It is now our turn to augment the previous solution such that cross validation \n",
    "## is properly nested within cross testing.\n",
    "##\n",
    "## Hint: you will need to combine sklearn.model_selection.GridSearchCV with\n",
    "##       sklearn.model_selection.cross_val_predict to run a \n",
    "##       cross validation within cross testing.\n",
    "## Note that this exercise also demonstrates the beauty of the class architecture\n",
    "## of sklearn: GridSearchCV objects have the same properties as objects generated from\n",
    "## other machine learning data types which represent different methods and models.\n",
    "## import it\n",
    "## cross validation and grid search (including reshuffle support)\n",
    "from sklearn.model_selection import cross_val_predict as cvp\n",
    "from sklearn.model_selection import GridSearchCV as GSCV\n",
    "from sklearn.model_selection import KFold\n",
    "##\n",
    "## In order to assess the dependency w.r.t random permutations we loop again over \n",
    "## nrandpermit random permutations.\n"
   ]
  },
  {
   "cell_type": "markdown",
   "metadata": {
    "colab_type": "text",
    "id": "2ZDQDTNzIBgx"
   },
   "source": [
    "## Investigating additional classification methods\n",
    "A proper justification of suggesting a particular classification method requires chosing the method which performs best among competing approaches. The sklearn library provides to this end several different methods. The next step in our data science project is thus to include:\n",
    "1) Logistic regression model, \n",
    "2) a suppor vector classifier and\n",
    "3) as homework a Gaussian process classifier with different kernels. (computationally demanding)\n",
    "\n",
    "As you are now used to consult the online help of sklearn it should not be too difficult to identify important hyper parameters (parameters which influence the properties of the fit models) which you wish to vary within a gruid search. Note that hyperparameter selection is best approached iteratively, by gradually refining interesting regions of the parameter space. Otherwise you will most likely spend too much time waiting for calculations to complete.\n",
    "\n",
    "### Logistig regression and hyperparameters\n",
    "Logistig regression has only a hyperparameter whcih affects smothness. Parameter C is a float and optional (default=1.0)\n",
    "Its meaning is the inverse of a regularization strength with smaller values specifying stronger regularization.\n",
    "\n",
    "### SVM Kernels and parameters\n",
    "#### Linear kernel\n",
    "<math xmlns=\"http://www.w3.org/1998/Math/MathML\">\n",
    "  <mo fence=\"false\" stretchy=\"false\">&#x27E8;<!-- ⟨ --></mo>\n",
    "  <mi>x</mi>\n",
    "  <mo>,</mo>\n",
    "  <msup>\n",
    "    <mi>x</mi>\n",
    "    <mo>&#x2032;</mo>\n",
    "  </msup>\n",
    "  <mo fence=\"false\" stretchy=\"false\">&#x27E9;<!-- ⟩ --></mo>\n",
    "</math> denoting the inner product between input vectors x and x'. The linear kernel has no separate parameters. \n",
    "\n",
    "#### Polynomial kernel\n",
    "<math xmlns=\"http://www.w3.org/1998/Math/MathML\">\n",
    "  <mo stretchy=\"false\">(</mo>\n",
    "  <mi>&#x03B3;<!-- γ --></mi>\n",
    "  <mo fence=\"false\" stretchy=\"false\">&#x27E8;<!-- ⟨ --></mo>\n",
    "  <mi>x</mi>\n",
    "  <mo>,</mo>\n",
    "  <msup>\n",
    "    <mi>x</mi>\n",
    "    <mo>&#x2032;</mo>\n",
    "  </msup>\n",
    "  <mo fence=\"false\" stretchy=\"false\">&#x27E9;<!-- ⟩ --></mo>\n",
    "  <mo>+</mo>\n",
    "  <mi>r</mi>\n",
    "  <msup>\n",
    "    <mo stretchy=\"false\">)</mo>\n",
    "    <mi>d</mi>\n",
    "  </msup>\n",
    "</math> with d specified by keyword degree, and r by coef0.\n",
    "\n",
    "#### RBF kernel\n",
    "<math xmlns=\"http://www.w3.org/1998/Math/MathML\">\n",
    "  <mi>exp</mi>\n",
    "  <mo>&#x2061;<!-- ⁡ --></mo>\n",
    "  <mo stretchy=\"false\">(</mo>\n",
    "  <mo>&#x2212;<!-- − --></mo>\n",
    "  <mi>&#x03B3;<!-- γ --></mi>\n",
    "  <mo fence=\"false\" stretchy=\"false\">&#x2016;<!-- ‖ --></mo>\n",
    "  <mi>x</mi>\n",
    "  <mo>&#x2212;<!-- − --></mo>\n",
    "  <msup>\n",
    "    <mi>x</mi>\n",
    "    <mo>&#x2032;</mo>\n",
    "  </msup>\n",
    "  <msup>\n",
    "    <mo fence=\"false\" stretchy=\"false\">&#x2016;<!-- ‖ --></mo>\n",
    "    <mn>2</mn>\n",
    "  </msup>\n",
    "  <mo stretchy=\"false\">)</mo>\n",
    "</math>\n",
    "Note: <math xmlns=\"http://www.w3.org/1998/Math/MathML\">\n",
    "  <mi>&#x03B3;<!-- γ --></mi>\n",
    "</math> must be positive and has the implication of an inverse distance (large gamma - local responsibility of kernel and thus large complexity). \n",
    "\n",
    "#### Sigmoid kernel\n",
    "<math xmlns=\"http://www.w3.org/1998/Math/MathML\">\n",
    "  <mi>tanh</mi>\n",
    "  <mo>&#x2061;<!-- ⁡ --></mo>\n",
    "  <mo stretchy=\"false\">(</mo>\n",
    "  <mi>&#x03B3;<!-- γ --></mi>\n",
    "  <mo fence=\"false\" stretchy=\"false\">&#x27E8;<!-- ⟨ --></mo>\n",
    "  <mi>x</mi>\n",
    "  <mo>,</mo>\n",
    "  <msup>\n",
    "    <mi>x</mi>\n",
    "    <mo>&#x2032;</mo>\n",
    "  </msup>\n",
    "  <mo fence=\"false\" stretchy=\"false\">&#x27E9;<!-- ⟩ --></mo>\n",
    "  <mo>+</mo>\n",
    "  <mi>r</mi>\n",
    "  <mo stretchy=\"false\">)</mo>\n",
    "</math> with r specified by coef0.\n",
    "\n",
    "#### Smoothness penalty in support vector classifier\n",
    "The parameter C, common to all SVM kernels, trades off misclassification of training examples against simplicity of the decision surface. A low C makes the decision surface smooth, while a high C aims at classifying all training examples correctly.\n",
    "\n",
    "### Hyperparameters for Gaussian process classification (GPC)\n",
    "GPC is a fully Bayesian approach which adjusts hyperparameters -at large- automatically. GPCs are hierarchically dependent on hyper-hyper parameters which, howewer, sklearn does not consider to be adjuste by users. The only accessible hyperparameters are the kernels use by the GPC to capture correlations between sample inputs.\n",
    "\n",
    "### Combining Kernels\n",
    "While we refer to the sklearn online reference for details on the kernel functions, we provede here information about comining kernels. Kernel operators take one or two base kernels and combine them into a new kernel. The Sum kernel takes two kernels and and combines them via <math xmlns=\"http://www.w3.org/1998/Math/MathML\">  \n",
    "  <msub>\n",
    "    <mi>k</mi>\n",
    "    <mrow class=\"MJX-TeXAtom-ORD\">\n",
    "      <mn>s</mn>\n",
    "    </mrow>\n",
    "  </msub>\n",
    "  <mo stretchy=\"false\">(</mo>\n",
    "  <mi>X</mi>\n",
    "  <mo>,</mo>\n",
    "  <mi>Y</mi>\n",
    "  <mo stretchy=\"false\">)</mo>\n",
    "  <mo>=</mo>\n",
    "  <mi>k</mi>\n",
    "  <mn>1</mn>\n",
    "  <mo stretchy=\"false\">(</mo>\n",
    "  <mi>X</mi>\n",
    "  <mo>,</mo>\n",
    "  <mi>Y</mi>\n",
    "  <mo stretchy=\"false\">)</mo>\n",
    "  <mo>+</mo>\n",
    "  <mi>k</mi>\n",
    "  <mn>2</mn>\n",
    "  <mo stretchy=\"false\">(</mo>\n",
    "  <mi>X</mi>\n",
    "  <mo>,</mo>\n",
    "  <mi>Y</mi>\n",
    "  <mo stretchy=\"false\">)</mo>\n",
    "</math>. The Product kernel takes two kernels and and combines them via <math xmlns=\"http://www.w3.org/1998/Math/MathML\">\n",
    "  <msub>\n",
    "    <mi>k</mi>\n",
    "    <mrow class=\"MJX-TeXAtom-ORD\">\n",
    "      <mn>p</mn>\n",
    "    </mrow>\n",
    "  </msub>\n",
    "  <mo stretchy=\"false\">(</mo>\n",
    "  <mi>X</mi>\n",
    "  <mo>,</mo>\n",
    "  <mi>Y</mi>\n",
    "  <mo stretchy=\"false\">)</mo>\n",
    "  <mo>=</mo>\n",
    "  <mi>k</mi>\n",
    "  <mn>1</mn>\n",
    "  <mo stretchy=\"false\">(</mo>\n",
    "  <mi>X</mi>\n",
    "  <mo>,</mo>\n",
    "  <mi>Y</mi>\n",
    "  <mo stretchy=\"false\">)</mo>\n",
    "  <mo>&#x2217;<!-- ∗ --></mo>\n",
    "  <mi>k</mi>\n",
    "  <mn>2</mn>\n",
    "  <mo stretchy=\"false\">(</mo>\n",
    "  <mi>X</mi>\n",
    "  <mo>,</mo>\n",
    "  <mi>Y</mi>\n",
    "  <mo stretchy=\"false\">)</mo>\n",
    "</math>. The Exponentiation kernel takes one base kernel and a scalar parameter eponend and combines them via <math xmlns=\"http://www.w3.org/1998/Math/MathML\">\n",
    "  <msub>\n",
    "    <mi>k</mi>\n",
    "    <mrow class=\"MJX-TeXAtom-ORD\">\n",
    "      <mn>e</mn>\n",
    "    </mrow>\n",
    "  </msub>\n",
    "  <mo stretchy=\"false\">(</mo>\n",
    "  <mi>X</mi>\n",
    "  <mo>,</mo>\n",
    "  <mi>Y</mi>\n",
    "  <mo stretchy=\"false\">)</mo>\n",
    "  <mo>=</mo>\n",
    "  <mi>k</mi>\n",
    "  <mo stretchy=\"false\">(</mo>\n",
    "  <mi>X</mi>\n",
    "  <mo>,</mo>\n",
    "  <mi>Y</mi>\n",
    "  <msup>\n",
    "    <mo stretchy=\"false\">)</mo>\n",
    "    <mtext>exponend</mtext>\n",
    "  </msup>\n",
    "</math>."
   ]
  },
  {
   "cell_type": "code",
   "execution_count": 12,
   "metadata": {
    "colab": {
     "base_uri": "https://localhost:8080/",
     "height": 1000
    },
    "colab_type": "code",
    "executionInfo": {
     "elapsed": 1918767,
     "status": "ok",
     "timestamp": 1584538747216,
     "user": {
      "displayName": "Peter Sykacek",
      "photoUrl": "https://lh3.googleusercontent.com/a-/AOh14GjlnOmz-mwhW_nTISUz7jStWDjRmDok37MkxknQ=s64",
      "userId": "03469838921117712238"
     },
     "user_tz": -60
    },
    "id": "vVu1UJjzIBg1",
    "outputId": "ea2c5240-97ea-492d-b0ef-3f25cf0d18a9"
   },
   "outputs": [
    {
     "name": "stdout",
     "output_type": "stream",
     "text": [
      "run: 0\n",
      "log. reg.\n",
      "svm\n",
      "run: 1\n",
      "log. reg.\n",
      "svm\n",
      "run: 2\n",
      "log. reg.\n",
      "svm\n",
      "run: 3\n",
      "log. reg.\n",
      "svm\n",
      "run: 4\n",
      "log. reg.\n",
      "svm\n",
      "run: 5\n",
      "log. reg.\n",
      "svm\n",
      "run: 6\n",
      "log. reg.\n",
      "svm\n",
      "run: 7\n",
      "log. reg.\n",
      "svm\n",
      "run: 8\n",
      "log. reg.\n",
      "svm\n",
      "run: 9\n",
      "log. reg.\n",
      "svm\n",
      "run: 10\n",
      "log. reg.\n",
      "svm\n",
      "run: 11\n",
      "log. reg.\n",
      "svm\n",
      "run: 12\n",
      "log. reg.\n",
      "svm\n",
      "run: 13\n",
      "log. reg.\n",
      "svm\n",
      "run: 14\n",
      "log. reg.\n",
      "svm\n",
      "run: 15\n",
      "log. reg.\n",
      "svm\n",
      "run: 16\n",
      "log. reg.\n",
      "svm\n",
      "run: 17\n",
      "log. reg.\n",
      "svm\n",
      "run: 18\n",
      "log. reg.\n",
      "svm\n",
      "run: 19\n",
      "log. reg.\n",
      "svm\n"
     ]
    }
   ],
   "source": [
    "## Logistic regression in sklearn: sklearn.linear_model.LogisticRegression\n",
    "## pvals, acc and C for log reg.\n",
    "\n",
    "## logistic regression\n",
    "from sklearn.linear_model import LogisticRegression as LogReg\n",
    "\n",
    "## Support vector machine in sklearn: sklearn.svm.SVC\n",
    "##\n",
    "## pvals, acc, C and Gamma for svm\n",
    "## support vector machine\n",
    "from sklearn.svm import SVC\n",
    "\n",
    "## Gaussian process classifier in sklearn: \n",
    "## sklearn.gaussian_process.GaussianProcessClassifier\n",
    "## For the Gaussian process classifier you will also need to\n",
    "## load kernels from: sklearn.gaussian_process.kernels\n",
    "\n",
    "## pvals, acc and chosen kernel index for GPC\n",
    "## dogpc=True\n",
    "## Gaussian Process Classifier (model and kernels)\n",
    "##\n",
    "## Kernel inference:\n",
    "#\n",
    "# Kernel inference for Gaussian Process classification using sklearn:\n",
    "# Kernel hyperparameters will be inferred from the marginal\n",
    "# likelihoods. Kernels will be selected by GSCV (grid search in a cross\n",
    "# validation setting.) To enable this we will specify a list of\n",
    "# kernels which we pass to GSCV for selection. The GPC object will be\n",
    "# initialised such that kernel hypereparameters are inferred by\n",
    "# maximizing the marginal likelihood w.r.t. these parameters.\n",
    "#\n",
    "import sklearn.gaussian_process.kernels as sgpk\n",
    "\n",
    "# kernels are constant, Matern, RBF, Rational Quadratic (scale mixture\n",
    "# of RBFs) and DotProduct. Note that you may also combine kernels.\n",
    "tstkernels=[sgpk.ConstantKernel(), sgpk.Matern(), sgpk.RBF(), \n",
    "            sgpk.RationalQuadratic(), sgpk.DotProduct()]\n",
    "krnlnams=[\"const\", \"matern\", \"rbf\", \"ratqudr\", \"dotprod\"] \n",
    "# import the GPC data type\n",
    "from sklearn.gaussian_process import GaussianProcessClassifier as GPC\n",
    "## nrandpermit=2\n",
    "## we use random permutations to investiagte p-values and accuracies.\n",
    "## and apply all classifiers in one loop (which we could have done\n",
    "## with knn as well)\n"
   ]
  },
  {
   "cell_type": "markdown",
   "metadata": {
    "colab_type": "text",
    "id": "H_TRlwujIBhC"
   },
   "source": [
    "## Evaluation plots\n",
    "All p-values assess differences between default classification (based on majority voting) and different classifiers with Mc-Nemars test. The p-values are <shown on logit scale. Gemeralisation accuracies are shown on nominal scale. The box plots show the relations in dependency of random permutations. Illustrations vary in dependency of the flags which control which models are tested."
   ]
  },
  {
   "cell_type": "code",
   "execution_count": 14,
   "metadata": {
    "colab": {
     "base_uri": "https://localhost:8080/",
     "height": 293
    },
    "colab_type": "code",
    "executionInfo": {
     "elapsed": 877,
     "status": "ok",
     "timestamp": 1584539660891,
     "user": {
      "displayName": "Peter Sykacek",
      "photoUrl": "https://lh3.googleusercontent.com/a-/AOh14GjlnOmz-mwhW_nTISUz7jStWDjRmDok37MkxknQ=s64",
      "userId": "03469838921117712238"
     },
     "user_tz": -60
    },
    "id": "ipyLtxFRIBhH",
    "outputId": "6a72e6c0-2743-422f-9615-4c43557f65ff"
   },
   "outputs": [
    {
     "data": {
      "image/png": "[encoded data removed]",
      "text/plain": [
       "<Figure size 432x288 with 2 Axes>"
      ]
     },
     "metadata": {
      "tags": []
     },
     "output_type": "display_data"
    }
   ],
   "source": [
    "## visualisations.\n",
    "##\n",
    "## first we plot the generalisation accuracies reached for the\n",
    "## different methods and logit transformed McNemar p-values when\n",
    "## comparing against the default classifier We illustrate both as per\n",
    "## method box plots. (e.g. using pandas)\n",
    "\n",
    "def logit(pvals, myeps=10**-10):\n",
    "    ## logit transform of p-values to \"unfold\" the underlying metric\n",
    "    ## make sure the value is > 0\n",
    "    pvals=np.array(pvals)\n",
    "    pvals[pvals<myeps]=myeps\n",
    "    pvals[pvals>1-myeps]=1-myeps\n",
    "    ## return logit transformed p-values.\n",
    "    return np.log(pvals)-np.log(1-pvals)\n"
   ]
  },
  {
   "cell_type": "markdown",
   "metadata": {
    "colab_type": "text",
    "id": "SthiI3NcIBhV"
   },
   "source": [
    "## Hyper parameter distributons"
   ]
  },
  {
   "cell_type": "code",
   "execution_count": 15,
   "metadata": {
    "colab": {
     "base_uri": "https://localhost:8080/",
     "height": 305
    },
    "colab_type": "code",
    "executionInfo": {
     "elapsed": 798,
     "status": "ok",
     "timestamp": 1584539665784,
     "user": {
      "displayName": "Peter Sykacek",
      "photoUrl": "https://lh3.googleusercontent.com/a-/AOh14GjlnOmz-mwhW_nTISUz7jStWDjRmDok37MkxknQ=s64",
      "userId": "03469838921117712238"
     },
     "user_tz": -60
    },
    "id": "vgEMtllPIBha",
    "outputId": "9dbd8802-024e-49c9-d967-25b7ceb04407"
   },
   "outputs": [
    {
     "data": {
      "image/png": "[encoded data removed]",
      "text/plain": [
       "<Figure size 432x288 with 1 Axes>"
      ]
     },
     "metadata": {
      "tags": []
     },
     "output_type": "display_data"
    }
   ],
   "source": [
    "## we will now visualise the hyperparameter distributions we\n",
    "## got from permuted data\n",
    "##\n",
    "## we first plot the results for the quantitative hyperparameters\n"
   ]
  }
 ],
 "metadata": {
  "colab": {
   "name": "classification.ipynb",
   "provenance": []
  },
  "kernelspec": {
   "display_name": "Python 3",
   "language": "python",
   "name": "python3"
  },
  "language_info": {
   "codemirror_mode": {
    "name": "ipython",
    "version": 3
   },
   "file_extension": ".py",
   "mimetype": "text/x-python",
   "name": "python",
   "nbconvert_exporter": "python",
   "pygments_lexer": "ipython3",
   "version": "3.7.7"
  }
 },
 "nbformat": 4,
 "nbformat_minor": 4
}
