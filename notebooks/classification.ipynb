{
 "cells": [
  {
   "cell_type": "markdown",
   "metadata": {
    "colab_type": "text",
    "id": "XjGm5gYEIBfH"
   },
   "source": [
    "# Classification\n",
    "\n",
    "Fitting classifiers is one of the most common applications of machine learning. Many popular machine learning tools like support vector machines, random forests, gaussian process classifiers or deep learning architectures for discrete predictions fall into this category.\n",
    "\n",
    "## Recommendations for fitting classifiers\n",
    "\n",
    "The most important advise for fitting classifiers is not to judge a solution on the basis of fitting a single method. From the \"no free lunch theorem\" we know that methods which necessarily make assumptions will sometimes fit to a problem at hand and sometimes fail in delivering good results. Scores like \"generalisation accuracy\" depend moreover on the difficulty of the problem. It is thus also impossible to judge whether an accuracy of 90% is good or bad. Observing 90% accuracy with a support vector (or any other) classifier will for example be rather bad, if the data at hand has a majority class which labels 95% of all samples. On the other hand it will be reasonable good if our problem has balanced class labels. The conclusion is thus that we should investigate a problem with as many different methods as possible which provides us more confidence that a solution makes sense. For the experts we should add that selecting the best from several classifiers is a learning problem in its own right and has thus a tendency to overfit. The true generalisation performance of the best method will thus be worse than our estimate. \n",
    "\n",
    "## TCGA-GBM expression data\n",
    "\n",
    "The demo below puts the idea of comparing classifiers to practice. We use to this end a dataset which was obtained from TCGA Glioblastoma Affymetrix U133A arrays. The data is quality checked, RMA processed, vsn transformed and location scale adjusted. We subsequently selected around 500 Ensemble genes from the entire array. To demonstrate classification we approach the relatively simple problem of discriminating normal samples from GBM samples.\n",
    "\n",
    "## Loading the data"
   ]
  },
  {
   "cell_type": "code",
   "execution_count": 1,
   "metadata": {
    "colab": {
     "base_uri": "https://localhost:8080/",
     "height": 90
    },
    "colab_type": "code",
    "executionInfo": {
     "elapsed": 1974,
     "status": "ok",
     "timestamp": 1584536830346,
     "user": {
      "displayName": "Peter Sykacek",
      "photoUrl": "https://lh3.googleusercontent.com/a-/AOh14GjlnOmz-mwhW_nTISUz7jStWDjRmDok37MkxknQ=s64",
      "userId": "03469838921117712238"
     },
     "user_tz": -60
    },
    "id": "8H4GfvT5IBfS",
    "outputId": "dd3005bf-2e4e-4124-818a-fbad0ca1ff32"
   },
   "outputs": [
    {
     "name": "stdout",
     "output_type": "stream",
     "text": [
      "map2log\n",
      "{'Solid Tissue Normal', 'Primary Tumor'}\n",
      "zero one coding: we code Solid Tissue Normal as 1.\n"
     ]
    }
   ],
   "source": [
    "## decide whether we run code in google colab amd access the google drive or \n",
    "## whether we run locally\n",
    "incolab=False\n",
    "if incolab:\n",
    "  ## we mount the drive and set the basepath\n",
    "  from google.colab import drive\n",
    "  drive.mount('/content/drive')\n",
    "  basepath=\"/content/drive/My Drive/exercise4colab.4students/\"\n",
    "else:\n",
    "  ## we run locally and basepath is the parent directory \n",
    "  basepath=\"../\"\n",
    "### ml_lib.py resides in <basepath>/course.lib and contains course relevant\n",
    "### library functions. To allw loading it we set a temporary path to\n",
    "### the directory\n",
    "import sys\n",
    "sys.path.append(basepath+\"course.lib/\")\n",
    "import ml_lib as mlib\n",
    "## generic imports\n",
    "import sklearn\n",
    "import numpy as np\n",
    "import pandas as pd\n",
    "from tqdm.notebook import tqdm\n",
    "## We implement a classifier for selected GBM Affymetrix sample type\n",
    "## specific genes. The data is quality checked, vsn transformed and ls\n",
    "## normalised.\n",
    "fnambase=basepath+\"course_data/GBM_AFFY_nrm_samplesel\"\n",
    "## set up an eset (synonymous to bioconductor esets)\n",
    "gbmeset=mlib.PyEset()\n",
    "## load the data using defaults (log 2 scale)\n",
    "gbmeset.loadfromfile(fnambase)\n",
    "## convert it to sklearn compatible data (split as input and target)\n",
    "## The matrices which result from gbmeset.tolabeleddata(labelcol) match\n",
    "## sklearn assumptions that rows are samples and columns are features.\n",
    "labelcol=\"sample_type\"\n",
    "data4ml=gbmeset.tolabeleddata(labelcol)\n",
    "X=data4ml[\"X\"]\n",
    "## y is here a one dimensional np.array of strings.\n",
    "y=data4ml[\"Y\"]\n",
    "print(set(y))\n",
    "## type cast to get unique entries in y\n",
    "labels=list(set(y))\n",
    "\n",
    "trg=np.array([0]*len(y))\n",
    "trg[y==labels[0]]=1\n",
    "print(\"zero one coding: we code {0} as {1}.\".format(labels[0], 1))"
   ]
  },
  {
   "cell_type": "code",
   "execution_count": 2,
   "metadata": {},
   "outputs": [],
   "source": [
    "from sklearn.model_selection import cross_val_predict as cvp\n",
    "from sklearn.model_selection import KFold\n",
    "from sklearn.model_selection import GridSearchCV as GSCV\n",
    "\n",
    "from sklearn.metrics import accuracy_score\n",
    "\n",
    "import matplotlib.pyplot as plt\n",
    "from matplotlib.backends.backend_pdf import PdfPages\n",
    "\n",
    "from sklearn.neighbors import KNeighborsClassifier as KNN\n",
    "from sklearn.linear_model import LogisticRegression as LogReg\n",
    "from sklearn.pipeline import make_pipeline\n",
    "from sklearn.svm import SVC\n",
    "from sklearn.gaussian_process import GaussianProcessClassifier as GPC\n",
    "import sklearn.gaussian_process.kernels as sgpk"
   ]
  },
  {
   "cell_type": "markdown",
   "metadata": {
    "colab_type": "text",
    "id": "q2yc7mCVIBfy"
   },
   "source": [
    "## Fitting a k nearest neighbour classifier\n",
    "To obtain a model which allows predicting whether an expression vector is either a 'Solid Tissue Normal' or a 'Primary Tumor' we use a so called \"k nearest neighbour\" (knn) classifier. The knn classifier is a non parametric model which investigates for every test sample the labels of the k nearest neighbours in the training data. Its simplest implementation does not require any learning. More advanced approaches remove samples from the training data in a manner which keeps predictions invariant. The predictions of a knn classifier depend on the distance metric and more importantly on the value of \"k\", with larger k values providing smoother decision boundaries.\n",
    "\n",
    "A noteworthy property of the knn classifier is its guarantee to approch Bayes optimal performance in the limit of infinite training samples N, for k approaching infinity while k/N remaining finite (e.g. set k=log(N)). In the more important finite sample setting we need to investigate different values for k.\n",
    "\n",
    "## A knn classifier with sklearn"
   ]
  },
  {
   "cell_type": "code",
   "execution_count": 3,
   "metadata": {
    "colab": {},
    "colab_type": "code",
    "id": "omGpilBuIBf3"
   },
   "outputs": [
    {
     "data": {
      "application/vnd.jupyter.widget-view+json": {
       "model_id": "bc97d02ed4e84ba9868213740139593f",
       "version_major": 2,
       "version_minor": 0
      },
      "text/plain": [
       "  0%|          | 0/10 [00:00<?, ?it/s]"
      ]
     },
     "metadata": {},
     "output_type": "display_data"
    }
   ],
   "source": [
    "maxK=20\n",
    "#make sure maxK is tested\n",
    "krange=range(1, maxK+1)\n",
    "# robustness by randomly permuting the order of samples\n",
    "nrandpermit=10\n",
    "# we use 20 for cross validation of k\n",
    "nfolds=20\n",
    "# store for McNemar p-values when comparing knn against the default accuracy\n",
    "allkpval=np.zeros((nrandpermit, len(list(krange))))\n",
    "# accuracy of knn for varying k\n",
    "allkacc=np.zeros((nrandpermit, len(list(krange))))\n",
    "# accuracy of default classifier \n",
    "alldefacc=np.zeros((nrandpermit, 1))\n",
    "for it in tqdm(range(nrandpermit)):\n",
    "    ckpval=np.zeros((1, len(list(krange))))\n",
    "    ckacc=np.zeros((1, len(list(krange))))\n",
    "    # KFold iterator with random reshuffling\n",
    "    cvp_cv = KFold(n_splits=nfolds, shuffle=True, random_state=it)\n",
    "    # default cross validated predictions from DefClassifier\n",
    "    cdefpred=cvp(mlib.DefClassifier(), X, trg, cv=cvp_cv)\n",
    "    alldefacc[it, 0]=sum(cdefpred==trg)/len(trg)\n",
    "    for id, k in enumerate(krange):\n",
    "        # get KNN predictions by cvp n_jobs -1: all cores in parallel\n",
    "        cpred=cvp(KNN(n_neighbors=k), X, trg, cv=cvp_cv, n_jobs=-1)\n",
    "        # calculate perdictive accuracy\n",
    "        ckacc[0, id]=sum(cpred==trg)/len(trg)\n",
    "        # call McNemar to get p-value of outperforming default accuracy\n",
    "        na, nb=mlib.lab2cnt(cdefpred, cpred, trg)\n",
    "        ckpval[0, id]=mlib.mcnemar(na, nb)\n",
    "    # store p-values and accuracies for current random permutation\n",
    "    allkpval[it, :]=ckpval[0, :]\n",
    "    allkacc[it, :]=ckacc[0, :]"
   ]
  },
  {
   "cell_type": "markdown",
   "metadata": {
    "colab_type": "text",
    "id": "2eZeVGl7IBgH"
   },
   "source": [
    "## Performance estimates\n",
    "The next cell visualises performance estimates by two plots. An important question you should ask yourself is whether we may expect that the knn generalisation accuracy for optimal k in the plot below is what we may expect to see in subsequent applications of this classifier?"
   ]
  },
  {
   "cell_type": "code",
   "execution_count": 4,
   "metadata": {
    "colab": {
     "base_uri": "https://localhost:8080/",
     "height": 295
    },
    "colab_type": "code",
    "executionInfo": {
     "elapsed": 85785,
     "status": "ok",
     "timestamp": 1584536914194,
     "user": {
      "displayName": "Peter Sykacek",
      "photoUrl": "https://lh3.googleusercontent.com/a-/AOh14GjlnOmz-mwhW_nTISUz7jStWDjRmDok37MkxknQ=s64",
      "userId": "03469838921117712238"
     },
     "user_tz": -60
    },
    "id": "4riYSRIYIBgN",
    "outputId": "240359b3-64da-4fda-e25d-ccd0880a755f"
   },
   "outputs": [
    {
     "data": {
      "image/png": "[encoded data removed]",
      "text/plain": [
       "<Figure size 432x288 with 2 Axes>"
      ]
     },
     "metadata": {
      "needs_background": "light"
     },
     "output_type": "display_data"
    }
   ],
   "source": [
    "# calculations done, now we visualise minimum and maximum accuracy of the kNN\n",
    "# and in the second subplot minimum and maximum p-value when comparing against the default\n",
    "# classifier (majority vote).\n",
    "myfig=plt.figure()\n",
    "plt.subplots_adjust(hspace = 0.6)  ## adjust spacing between subplots\n",
    "plt.subplot(211)\n",
    "plt.plot(list(krange), np.min(allkacc, axis=0), 'g--', linewidth=3, label='min acc.')\n",
    "plt.plot(list(krange), np.mean(allkacc, axis=0), 'g-', linewidth=3, label='av acc.')\n",
    "plt.plot(list(krange), np.max(allkacc, axis=0), 'g:', linewidth=3, label='max acc.')\n",
    "plt.ylabel(\"Gen. Acc.\", fontsize=\"14\")\n",
    "plt.legend(loc=0)\n",
    "plt.title(\"KNN generalisation accuracy\", x=.5, y=1.1, fontsize=\"15\")\n",
    "plt.subplot(212)\n",
    "plt.plot(list(krange), np.min(allkpval, axis=0), 'g--', linewidth=3, label='most sig.')\n",
    "plt.plot(list(krange), np.mean(allkpval, axis=0), 'g-', linewidth=3, label='av sig.')\n",
    "plt.plot(list(krange), np.max(allkpval, axis=0), 'g:', linewidth=3, label='least sig.')\n",
    "plt.ylabel(\"McNemar p-value\", fontsize=\"14\")\n",
    "plt.legend(loc=0)\n",
    "plt.title(\"KNN vs. majority vote\", x=.5, y=1.1, fontsize=\"15\")\n",
    "\n",
    "plt.show()\n",
    "with PdfPages(basepath+'resfigs/sklearn_KNNvsDef.pdf') as pdf:\n",
    "    pdf.savefig(myfig)"
   ]
  },
  {
   "cell_type": "markdown",
   "metadata": {
    "colab_type": "text",
    "id": "CPakxizsIBgd"
   },
   "source": [
    "## Assessment and suggestion for improvement\n",
    "The above plot suggests that the best accuracy is obtained with k=1, that is with the most complex decision boundary a knn classifier allows us to represent. The answer to the previous question is that the generalisation performance we obtain with k=1 may be below the observed value as we plot biased estimates. For the graph to be unbiased we should nest cross validation of k properly within estimating the generalisation accuracy."
   ]
  },
  {
   "cell_type": "markdown",
   "metadata": {},
   "source": [
    "## Nested Cross-Validation/Cross-Testing\n",
    "\n",
    "To obtain unbiased performance estimates, we used GridsearchCV to determine the optimal value for k (cross-validation). This was in turn nested inside crossvalpredict (cross-testing) to calculate the generalisation accuracy."
   ]
  },
  {
   "cell_type": "code",
   "execution_count": 5,
   "metadata": {
    "colab": {
     "base_uri": "https://localhost:8080/",
     "height": 384
    },
    "colab_type": "code",
    "executionInfo": {
     "elapsed": 561713,
     "status": "ok",
     "timestamp": 1584537390147,
     "user": {
      "displayName": "Peter Sykacek",
      "photoUrl": "https://lh3.googleusercontent.com/a-/AOh14GjlnOmz-mwhW_nTISUz7jStWDjRmDok37MkxknQ=s64",
      "userId": "03469838921117712238"
     },
     "user_tz": -60
    },
    "id": "ymWhGZavIBgh",
    "outputId": "6d691817-262e-44df-fd75-c1d93dd6c2a8"
   },
   "outputs": [
    {
     "data": {
      "application/vnd.jupyter.widget-view+json": {
       "model_id": "195c576784f74b7c920aef2f40f7edd8",
       "version_major": 2,
       "version_minor": 0
      },
      "text/plain": [
       "  0%|          | 0/20 [00:00<?, ?it/s]"
      ]
     },
     "metadata": {},
     "output_type": "display_data"
    }
   ],
   "source": [
    "## It is now our turn to augment the previous solution such that cross validation \n",
    "## is properly nested within cross testing.\n",
    "##\n",
    "## Hint: you will need to combine sklearn.model_selection.GridSearchCV with\n",
    "##       sklearn.model_selection.cross_val_predict to run a \n",
    "##       cross validation within cross testing.\n",
    "## Note that this exercise also demonstrates the beauty of the class architecture\n",
    "## of sklearn: GridSearchCV objects have the same properties as objects generated from\n",
    "## other machine learning data types which represent different methods and models.\n",
    "## import it\n",
    "## cross validation and grid search (including reshuffle support)\n",
    "\n",
    "#define maximum k\n",
    "k_max = 20\n",
    "k_range = list(range(1, k_max+1))\n",
    "# robustness by randomly permuting the order of samples\n",
    "nrandpermit=20\n",
    "# we use 20 for cross validation of k\n",
    "nfolds=10\n",
    "#lists for parameters of Grid Search\n",
    "knn_opt_k = np.zeros((nrandpermit, 1))\n",
    "knn_cv_scores = np.zeros((nrandpermit, 1))\n",
    "knn_ct_scores = np.zeros((nrandpermit, 1))\n",
    "# store for McNemar p-values when comparing knn against the default accuracy\n",
    "knn_pval=np.zeros((nrandpermit, 1))\n",
    "# accuracy of knn for varying k\n",
    "alldefacc=np.zeros((nrandpermit, 1))\n",
    "\n",
    "for it in tqdm(range(nrandpermit)):\n",
    "    # KFold iterator with random reshuffling\n",
    "    cvp_cv = KFold(n_splits=nfolds, shuffle=True, random_state=it)\n",
    "    inner_cv = KFold(n_splits=nfolds, shuffle=True, random_state=it)\n",
    "    # default cross validated predictions from DefClassifier\n",
    "    cdefpred=cvp(mlib.DefClassifier(), X, trg, cv=cvp_cv)\n",
    "    alldefacc[it, 0]=sum(cdefpred==trg)/len(trg)\n",
    "    grid_param = {\"n_neighbors\": range(1,k_max+1)}\n",
    "    cv_knn = GSCV(KNN(), grid_param , cv=inner_cv ,n_jobs=-1)\n",
    "    cv_knn.fit(X,trg)\n",
    "    \n",
    "    cpred=cvp(cv_knn, X, trg, cv=cvp_cv, n_jobs=-1)\n",
    "    \n",
    "    #store best k and best score\n",
    "    knn_opt_k[it, 0] = cv_knn.best_params_[\"n_neighbors\"]\n",
    "    knn_cv_scores[it, 0] = cv_knn.best_score_\n",
    "    knn_ct_scores[it, 0] = accuracy_score(trg, cpred)\n",
    "    # call McNemar to get p-value of outperforming default accuracy\n",
    "    na, nb = mlib.lab2cnt(cdefpred, cpred, trg)\n",
    "    # store p-values and accuracies for current random permutation\n",
    "    knn_pval[it, 0] = mlib.mcnemar(na, nb)"
   ]
  },
  {
   "cell_type": "markdown",
   "metadata": {},
   "source": [
    "The accuracies obtained from cross-validation and cross-testing show the expected behavior, i.e. cross-testing has a slightly lower accuracy."
   ]
  },
  {
   "cell_type": "code",
   "execution_count": 6,
   "metadata": {},
   "outputs": [
    {
     "data": {
      "text/plain": [
       "<AxesSubplot:>"
      ]
     },
     "execution_count": 6,
     "metadata": {},
     "output_type": "execute_result"
    },
    {
     "data": {
      "image/png": "[encoded data removed]",
      "text/plain": [
       "<Figure size 432x288 with 1 Axes>"
      ]
     },
     "metadata": {
      "needs_background": "light"
     },
     "output_type": "display_data"
    }
   ],
   "source": [
    "knn_all_scores = pd.DataFrame(np.hstack((knn_cv_scores, knn_ct_scores)), columns=(\"Cross-Validation\", \"Cross-Testing\"))\n",
    "\n",
    "knn_all_scores.boxplot(medianprops=dict(linestyle='-', linewidth=1.5, color='red'))"
   ]
  },
  {
   "cell_type": "markdown",
   "metadata": {},
   "source": [
    "The optimal k-value was 1 in most cases, as was also seen in the non-nested prediction."
   ]
  },
  {
   "cell_type": "code",
   "execution_count": 7,
   "metadata": {},
   "outputs": [
    {
     "data": {
      "text/plain": [
       "<AxesSubplot:>"
      ]
     },
     "execution_count": 7,
     "metadata": {},
     "output_type": "execute_result"
    },
    {
     "data": {
      "image/png": "[encoded data removed]",
      "text/plain": [
       "<Figure size 432x288 with 1 Axes>"
      ]
     },
     "metadata": {
      "needs_background": "light"
     },
     "output_type": "display_data"
    }
   ],
   "source": [
    "pd.DataFrame(knn_opt_k, columns=[\"k\"]).boxplot(medianprops=dict(linestyle='-', linewidth=1.5, color='red'))"
   ]
  },
  {
   "cell_type": "markdown",
   "metadata": {},
   "source": [
    "Finally, the p-value compared to the default (majority vote) classifier is shown. The highest observed p-value is ~ 0.04, and the median is ~ 0.01, which shows us that the KNN classifier is significantly more accurate than the default classifier."
   ]
  },
  {
   "cell_type": "code",
   "execution_count": 8,
   "metadata": {},
   "outputs": [
    {
     "data": {
      "image/png": "[encoded data removed]",
      "text/plain": [
       "<Figure size 432x288 with 1 Axes>"
      ]
     },
     "metadata": {
      "needs_background": "light"
     },
     "output_type": "display_data"
    }
   ],
   "source": [
    "fig, ax = plt.subplots()\n",
    "\n",
    "pd.DataFrame(knn_pval, columns=[\"p_value\"]).boxplot(ax=ax, \n",
    "                                                    medianprops=dict(linestyle='-', \n",
    "                                                                     linewidth=1.5, \n",
    "                                                                     color='red'))\n",
    "ax.set_yscale(\"logit\")"
   ]
  },
  {
   "cell_type": "markdown",
   "metadata": {
    "colab_type": "text",
    "id": "2ZDQDTNzIBgx"
   },
   "source": [
    "## Investigating additional classification methods\n",
    "A proper justification of suggesting a particular classification method requires chosing the method which performs best among competing approaches. The sklearn library provides to this end several different methods. The next step in our data science project is thus to include:\n",
    "1) Logistic regression model, \n",
    "2) a suppor vector classifier and\n",
    "3) as homework a Gaussian process classifier with different kernels. (computationally demanding)\n",
    "\n",
    "As you are now used to consult the online help of sklearn it should not be too difficult to identify important hyper parameters (parameters which influence the properties of the fit models) which you wish to vary within a grid search. Note that hyperparameter selection is best approached iteratively, by gradually refining interesting regions of the parameter space. Otherwise you will most likely spend too much time waiting for calculations to complete.\n",
    "\n",
    "### Logistig regression and hyperparameters\n",
    "Logistig regression has only a hyperparameter whcih affects smothness. Parameter C is a float and optional (default=1.0)\n",
    "Its meaning is the inverse of a regularization strength with smaller values specifying stronger regularization.\n",
    "\n",
    "### SVM Kernels and parameters\n",
    "#### Linear kernel\n",
    "<math xmlns=\"http://www.w3.org/1998/Math/MathML\">\n",
    "  <mo fence=\"false\" stretchy=\"false\">&#x27E8;<!-- ⟨ --></mo>\n",
    "  <mi>x</mi>\n",
    "  <mo>,</mo>\n",
    "  <msup>\n",
    "    <mi>x</mi>\n",
    "    <mo>&#x2032;</mo>\n",
    "  </msup>\n",
    "  <mo fence=\"false\" stretchy=\"false\">&#x27E9;<!-- ⟩ --></mo>\n",
    "</math> denoting the inner product between input vectors x and x'. The linear kernel has no separate parameters. \n",
    "\n",
    "#### Polynomial kernel\n",
    "<math xmlns=\"http://www.w3.org/1998/Math/MathML\">\n",
    "  <mo stretchy=\"false\">(</mo>\n",
    "  <mi>&#x03B3;<!-- γ --></mi>\n",
    "  <mo fence=\"false\" stretchy=\"false\">&#x27E8;<!-- ⟨ --></mo>\n",
    "  <mi>x</mi>\n",
    "  <mo>,</mo>\n",
    "  <msup>\n",
    "    <mi>x</mi>\n",
    "    <mo>&#x2032;</mo>\n",
    "  </msup>\n",
    "  <mo fence=\"false\" stretchy=\"false\">&#x27E9;<!-- ⟩ --></mo>\n",
    "  <mo>+</mo>\n",
    "  <mi>r</mi>\n",
    "  <msup>\n",
    "    <mo stretchy=\"false\">)</mo>\n",
    "    <mi>d</mi>\n",
    "  </msup>\n",
    "</math> with d specified by keyword degree, and r by coef0.\n",
    "\n",
    "#### RBF kernel\n",
    "<math xmlns=\"http://www.w3.org/1998/Math/MathML\">\n",
    "  <mi>exp</mi>\n",
    "  <mo>&#x2061;<!-- ⁡ --></mo>\n",
    "  <mo stretchy=\"false\">(</mo>\n",
    "  <mo>&#x2212;<!-- − --></mo>\n",
    "  <mi>&#x03B3;<!-- γ --></mi>\n",
    "  <mo fence=\"false\" stretchy=\"false\">&#x2016;<!-- ‖ --></mo>\n",
    "  <mi>x</mi>\n",
    "  <mo>&#x2212;<!-- − --></mo>\n",
    "  <msup>\n",
    "    <mi>x</mi>\n",
    "    <mo>&#x2032;</mo>\n",
    "  </msup>\n",
    "  <msup>\n",
    "    <mo fence=\"false\" stretchy=\"false\">&#x2016;<!-- ‖ --></mo>\n",
    "    <mn>2</mn>\n",
    "  </msup>\n",
    "  <mo stretchy=\"false\">)</mo>\n",
    "</math>\n",
    "Note: <math xmlns=\"http://www.w3.org/1998/Math/MathML\">\n",
    "  <mi>&#x03B3;<!-- γ --></mi>\n",
    "</math> must be positive and has the implication of an inverse distance (large gamma - local responsibility of kernel and thus large complexity). \n",
    "\n",
    "#### Sigmoid kernel\n",
    "<math xmlns=\"http://www.w3.org/1998/Math/MathML\">\n",
    "  <mi>tanh</mi>\n",
    "  <mo>&#x2061;<!-- ⁡ --></mo>\n",
    "  <mo stretchy=\"false\">(</mo>\n",
    "  <mi>&#x03B3;<!-- γ --></mi>\n",
    "  <mo fence=\"false\" stretchy=\"false\">&#x27E8;<!-- ⟨ --></mo>\n",
    "  <mi>x</mi>\n",
    "  <mo>,</mo>\n",
    "  <msup>\n",
    "    <mi>x</mi>\n",
    "    <mo>&#x2032;</mo>\n",
    "  </msup>\n",
    "  <mo fence=\"false\" stretchy=\"false\">&#x27E9;<!-- ⟩ --></mo>\n",
    "  <mo>+</mo>\n",
    "  <mi>r</mi>\n",
    "  <mo stretchy=\"false\">)</mo>\n",
    "</math> with r specified by coef0.\n",
    "\n",
    "#### Smoothness penalty in support vector classifier\n",
    "The parameter C, common to all SVM kernels, trades off misclassification of training examples against simplicity of the decision surface. A low C makes the decision surface smooth, while a high C aims at classifying all training examples correctly.\n",
    "\n",
    "### Hyperparameters for Gaussian process classification (GPC)\n",
    "GPC is a fully Bayesian approach which adjusts hyperparameters -at large- automatically. GPCs are hierarchically dependent on hyper-hyper parameters which, howewer, sklearn does not consider to be adjuste by users. The only accessible hyperparameters are the kernels use by the GPC to capture correlations between sample inputs.\n",
    "\n",
    "### Combining Kernels\n",
    "While we refer to the sklearn online reference for details on the kernel functions, we provede here information about comining kernels. Kernel operators take one or two base kernels and combine them into a new kernel. The Sum kernel takes two kernels and and combines them via <math xmlns=\"http://www.w3.org/1998/Math/MathML\">  \n",
    "  <msub>\n",
    "    <mi>k</mi>\n",
    "    <mrow class=\"MJX-TeXAtom-ORD\">\n",
    "      <mn>s</mn>\n",
    "    </mrow>\n",
    "  </msub>\n",
    "  <mo stretchy=\"false\">(</mo>\n",
    "  <mi>X</mi>\n",
    "  <mo>,</mo>\n",
    "  <mi>Y</mi>\n",
    "  <mo stretchy=\"false\">)</mo>\n",
    "  <mo>=</mo>\n",
    "  <mi>k</mi>\n",
    "  <mn>1</mn>\n",
    "  <mo stretchy=\"false\">(</mo>\n",
    "  <mi>X</mi>\n",
    "  <mo>,</mo>\n",
    "  <mi>Y</mi>\n",
    "  <mo stretchy=\"false\">)</mo>\n",
    "  <mo>+</mo>\n",
    "  <mi>k</mi>\n",
    "  <mn>2</mn>\n",
    "  <mo stretchy=\"false\">(</mo>\n",
    "  <mi>X</mi>\n",
    "  <mo>,</mo>\n",
    "  <mi>Y</mi>\n",
    "  <mo stretchy=\"false\">)</mo>\n",
    "</math>. The Product kernel takes two kernels and and combines them via <math xmlns=\"http://www.w3.org/1998/Math/MathML\">\n",
    "  <msub>\n",
    "    <mi>k</mi>\n",
    "    <mrow class=\"MJX-TeXAtom-ORD\">\n",
    "      <mn>p</mn>\n",
    "    </mrow>\n",
    "  </msub>\n",
    "  <mo stretchy=\"false\">(</mo>\n",
    "  <mi>X</mi>\n",
    "  <mo>,</mo>\n",
    "  <mi>Y</mi>\n",
    "  <mo stretchy=\"false\">)</mo>\n",
    "  <mo>=</mo>\n",
    "  <mi>k</mi>\n",
    "  <mn>1</mn>\n",
    "  <mo stretchy=\"false\">(</mo>\n",
    "  <mi>X</mi>\n",
    "  <mo>,</mo>\n",
    "  <mi>Y</mi>\n",
    "  <mo stretchy=\"false\">)</mo>\n",
    "  <mo>&#x2217;<!-- ∗ --></mo>\n",
    "  <mi>k</mi>\n",
    "  <mn>2</mn>\n",
    "  <mo stretchy=\"false\">(</mo>\n",
    "  <mi>X</mi>\n",
    "  <mo>,</mo>\n",
    "  <mi>Y</mi>\n",
    "  <mo stretchy=\"false\">)</mo>\n",
    "</math>. The Exponentiation kernel takes one base kernel and a scalar parameter eponend and combines them via <math xmlns=\"http://www.w3.org/1998/Math/MathML\">\n",
    "  <msub>\n",
    "    <mi>k</mi>\n",
    "    <mrow class=\"MJX-TeXAtom-ORD\">\n",
    "      <mn>e</mn>\n",
    "    </mrow>\n",
    "  </msub>\n",
    "  <mo stretchy=\"false\">(</mo>\n",
    "  <mi>X</mi>\n",
    "  <mo>,</mo>\n",
    "  <mi>Y</mi>\n",
    "  <mo stretchy=\"false\">)</mo>\n",
    "  <mo>=</mo>\n",
    "  <mi>k</mi>\n",
    "  <mo stretchy=\"false\">(</mo>\n",
    "  <mi>X</mi>\n",
    "  <mo>,</mo>\n",
    "  <mi>Y</mi>\n",
    "  <msup>\n",
    "    <mo stretchy=\"false\">)</mo>\n",
    "    <mtext>exponend</mtext>\n",
    "  </msup>\n",
    "</math>."
   ]
  },
  {
   "cell_type": "code",
   "execution_count": 9,
   "metadata": {
    "colab": {
     "base_uri": "https://localhost:8080/",
     "height": 1000
    },
    "colab_type": "code",
    "executionInfo": {
     "elapsed": 1918767,
     "status": "ok",
     "timestamp": 1584538747216,
     "user": {
      "displayName": "Peter Sykacek",
      "photoUrl": "https://lh3.googleusercontent.com/a-/AOh14GjlnOmz-mwhW_nTISUz7jStWDjRmDok37MkxknQ=s64",
      "userId": "03469838921117712238"
     },
     "user_tz": -60
    },
    "id": "vVu1UJjzIBg1",
    "outputId": "ea2c5240-97ea-492d-b0ef-3f25cf0d18a9"
   },
   "outputs": [
    {
     "data": {
      "application/vnd.jupyter.widget-view+json": {
       "model_id": "25192a37df2d4218a4505af9c3581d5a",
       "version_major": 2,
       "version_minor": 0
      },
      "text/plain": [
       "Permutation:   0%|          | 0/20 [00:00<?, ?it/s]"
      ]
     },
     "metadata": {},
     "output_type": "display_data"
    },
    {
     "data": {
      "application/vnd.jupyter.widget-view+json": {
       "model_id": "",
       "version_major": 2,
       "version_minor": 0
      },
      "text/plain": [
       "Classifier:   0%|          | 0/5 [00:00<?, ?it/s, Default]"
      ]
     },
     "metadata": {},
     "output_type": "display_data"
    },
    {
     "data": {
      "application/vnd.jupyter.widget-view+json": {
       "model_id": "",
       "version_major": 2,
       "version_minor": 0
      },
      "text/plain": [
       "Classifier:   0%|          | 0/5 [00:00<?, ?it/s, Default]"
      ]
     },
     "metadata": {},
     "output_type": "display_data"
    },
    {
     "data": {
      "application/vnd.jupyter.widget-view+json": {
       "model_id": "",
       "version_major": 2,
       "version_minor": 0
      },
      "text/plain": [
       "Classifier:   0%|          | 0/5 [00:00<?, ?it/s, Default]"
      ]
     },
     "metadata": {},
     "output_type": "display_data"
    },
    {
     "data": {
      "application/vnd.jupyter.widget-view+json": {
       "model_id": "",
       "version_major": 2,
       "version_minor": 0
      },
      "text/plain": [
       "Classifier:   0%|          | 0/5 [00:00<?, ?it/s, Default]"
      ]
     },
     "metadata": {},
     "output_type": "display_data"
    },
    {
     "data": {
      "application/vnd.jupyter.widget-view+json": {
       "model_id": "",
       "version_major": 2,
       "version_minor": 0
      },
      "text/plain": [
       "Classifier:   0%|          | 0/5 [00:00<?, ?it/s, Default]"
      ]
     },
     "metadata": {},
     "output_type": "display_data"
    },
    {
     "data": {
      "application/vnd.jupyter.widget-view+json": {
       "model_id": "",
       "version_major": 2,
       "version_minor": 0
      },
      "text/plain": [
       "Classifier:   0%|          | 0/5 [00:00<?, ?it/s, Default]"
      ]
     },
     "metadata": {},
     "output_type": "display_data"
    },
    {
     "data": {
      "application/vnd.jupyter.widget-view+json": {
       "model_id": "",
       "version_major": 2,
       "version_minor": 0
      },
      "text/plain": [
       "Classifier:   0%|          | 0/5 [00:00<?, ?it/s, Default]"
      ]
     },
     "metadata": {},
     "output_type": "display_data"
    },
    {
     "data": {
      "application/vnd.jupyter.widget-view+json": {
       "model_id": "",
       "version_major": 2,
       "version_minor": 0
      },
      "text/plain": [
       "Classifier:   0%|          | 0/5 [00:00<?, ?it/s, Default]"
      ]
     },
     "metadata": {},
     "output_type": "display_data"
    },
    {
     "data": {
      "application/vnd.jupyter.widget-view+json": {
       "model_id": "",
       "version_major": 2,
       "version_minor": 0
      },
      "text/plain": [
       "Classifier:   0%|          | 0/5 [00:00<?, ?it/s, Default]"
      ]
     },
     "metadata": {},
     "output_type": "display_data"
    },
    {
     "data": {
      "application/vnd.jupyter.widget-view+json": {
       "model_id": "",
       "version_major": 2,
       "version_minor": 0
      },
      "text/plain": [
       "Classifier:   0%|          | 0/5 [00:00<?, ?it/s, Default]"
      ]
     },
     "metadata": {},
     "output_type": "display_data"
    },
    {
     "data": {
      "application/vnd.jupyter.widget-view+json": {
       "model_id": "",
       "version_major": 2,
       "version_minor": 0
      },
      "text/plain": [
       "Classifier:   0%|          | 0/5 [00:00<?, ?it/s, Default]"
      ]
     },
     "metadata": {},
     "output_type": "display_data"
    },
    {
     "data": {
      "application/vnd.jupyter.widget-view+json": {
       "model_id": "",
       "version_major": 2,
       "version_minor": 0
      },
      "text/plain": [
       "Classifier:   0%|          | 0/5 [00:00<?, ?it/s, Default]"
      ]
     },
     "metadata": {},
     "output_type": "display_data"
    },
    {
     "data": {
      "application/vnd.jupyter.widget-view+json": {
       "model_id": "",
       "version_major": 2,
       "version_minor": 0
      },
      "text/plain": [
       "Classifier:   0%|          | 0/5 [00:00<?, ?it/s, Default]"
      ]
     },
     "metadata": {},
     "output_type": "display_data"
    },
    {
     "data": {
      "application/vnd.jupyter.widget-view+json": {
       "model_id": "",
       "version_major": 2,
       "version_minor": 0
      },
      "text/plain": [
       "Classifier:   0%|          | 0/5 [00:00<?, ?it/s, Default]"
      ]
     },
     "metadata": {},
     "output_type": "display_data"
    },
    {
     "data": {
      "application/vnd.jupyter.widget-view+json": {
       "model_id": "",
       "version_major": 2,
       "version_minor": 0
      },
      "text/plain": [
       "Classifier:   0%|          | 0/5 [00:00<?, ?it/s, Default]"
      ]
     },
     "metadata": {},
     "output_type": "display_data"
    },
    {
     "data": {
      "application/vnd.jupyter.widget-view+json": {
       "model_id": "",
       "version_major": 2,
       "version_minor": 0
      },
      "text/plain": [
       "Classifier:   0%|          | 0/5 [00:00<?, ?it/s, Default]"
      ]
     },
     "metadata": {},
     "output_type": "display_data"
    },
    {
     "data": {
      "application/vnd.jupyter.widget-view+json": {
       "model_id": "",
       "version_major": 2,
       "version_minor": 0
      },
      "text/plain": [
       "Classifier:   0%|          | 0/5 [00:00<?, ?it/s, Default]"
      ]
     },
     "metadata": {},
     "output_type": "display_data"
    },
    {
     "data": {
      "application/vnd.jupyter.widget-view+json": {
       "model_id": "",
       "version_major": 2,
       "version_minor": 0
      },
      "text/plain": [
       "Classifier:   0%|          | 0/5 [00:00<?, ?it/s, Default]"
      ]
     },
     "metadata": {},
     "output_type": "display_data"
    },
    {
     "data": {
      "application/vnd.jupyter.widget-view+json": {
       "model_id": "",
       "version_major": 2,
       "version_minor": 0
      },
      "text/plain": [
       "Classifier:   0%|          | 0/5 [00:00<?, ?it/s, Default]"
      ]
     },
     "metadata": {},
     "output_type": "display_data"
    },
    {
     "data": {
      "application/vnd.jupyter.widget-view+json": {
       "model_id": "",
       "version_major": 2,
       "version_minor": 0
      },
      "text/plain": [
       "Classifier:   0%|          | 0/5 [00:00<?, ?it/s, Default]"
      ]
     },
     "metadata": {},
     "output_type": "display_data"
    }
   ],
   "source": [
    "%%capture --no-display\n",
    "## Logistic regression in sklearn: sklearn.linear_model.LogisticRegression\n",
    "## pvals, acc and C for log reg.\n",
    "\n",
    "## logistic regression\n",
    "from sklearn.linear_model import LogisticRegression as LogReg\n",
    "\n",
    "## Support vector machine in sklearn: sklearn.svm.SVC\n",
    "##\n",
    "## pvals, acc, C and Gamma for svm\n",
    "## support vector machine\n",
    "from sklearn.svm import SVC\n",
    "\n",
    "## Gaussian process classifier in sklearn: \n",
    "## sklearn.gaussian_process.GaussianProcessClassifier\n",
    "## For the Gaussian process classifier you will also need to\n",
    "## load kernels from: sklearn.gaussian_process.kernels\n",
    "\n",
    "## pvals, acc and chosen kernel index for GPC\n",
    "## dogpc=True\n",
    "## Gaussian Process Classifier (model and kernels)\n",
    "##\n",
    "## Kernel inference:\n",
    "#\n",
    "# Kernel inference for Gaussian Process classification using sklearn:\n",
    "# Kernel hyperparameters will be inferred from the marginal\n",
    "# likelihoods. Kernels will be selected by GSCV (grid search in a cross\n",
    "# validation setting.) To enable this we will specify a list of\n",
    "# kernels which we pass to GSCV for selection. The GPC object will be\n",
    "# initialised such that kernel hypereparameters are inferred by\n",
    "# maximizing the marginal likelihood w.r.t. these parameters.\n",
    "#\n",
    "import sklearn.gaussian_process.kernels as sgpk\n",
    "\n",
    "# kernels are constant, Matern, RBF, Rational Quadratic (scale mixture\n",
    "# of RBFs) and DotProduct. Note that you may also combine kernels.\n",
    "tstkernels=[sgpk.ConstantKernel(), sgpk.Matern(), sgpk.RBF(), \n",
    "            sgpk.RationalQuadratic(alpha_bounds=(1e-5, 1e10)), sgpk.DotProduct()]\n",
    "krnlnams=[\"const\", \"matern\", \"rbf\", \"ratqudr\", \"dotprod\"] \n",
    "# import the GPC data type\n",
    "from sklearn.gaussian_process import GaussianProcessClassifier as GPC\n",
    "\n",
    "## we use random permutations to investiagte p-values and accuracies.\n",
    "## and apply all classifiers in one loop (which we could have done\n",
    "## with knn as well)\n",
    "\n",
    "n_trials = 20\n",
    "# Data is split into 10 folds\n",
    "n_folds = 10\n",
    "\n",
    "# Set up arrays for saving results\n",
    "\n",
    "all_acc = np.zeros((n_trials, 5))\n",
    "all_pval = np.zeros((n_trials, 4))\n",
    "all_hyperparams = np.zeros((n_trials, 4))\n",
    "all_kernels = np.zeros((n_trials, 5))\n",
    "\n",
    "for i in tqdm(range(n_trials), desc=\"Permutation\"): # To track progress\n",
    "    # KFold iterator with random reshuffling\n",
    "    outer_cv = KFold(n_splits=n_folds, shuffle=True, random_state=i)\n",
    "    inner_cv = KFold(n_splits=n_folds, shuffle=True, random_state=i)\n",
    "    \n",
    "    with tqdm(total=5, desc=\"Classifier\", postfix=\"Default\", leave=False) as pbar: # To show the current classifier\n",
    "        # Default Classifier (Majority)\n",
    "        def_cpred=cvp(mlib.DefClassifier(), X, trg, cv=outer_cv)\n",
    "        all_acc[i, 0] = accuracy_score(trg, def_cpred)\n",
    "        \n",
    "        pbar.update(1)\n",
    "        pbar.set_postfix_str(\"KNN\", refresh=True)\n",
    "        \n",
    "        # Repeat KNN for comparison\n",
    "        knn_param_grid = {\"n_neighbors\": range(1,21)}\n",
    "        knn_cv = GSCV(KNN(), param_grid=knn_param_grid, \n",
    "                      cv=inner_cv ,n_jobs=-1)\n",
    "        knn_cv.fit(X,trg)\n",
    "        knn_cpred=cvp(knn_cv, X, trg, cv=outer_cv, n_jobs=-1)\n",
    "        #store best k and best score\n",
    "        all_hyperparams[i, 0] = knn_cv.best_params_[\"n_neighbors\"]\n",
    "        all_acc[i, 1] = accuracy_score(trg, knn_cpred)\n",
    "        # call McNemar to get p-value of outperforming default accuracy\n",
    "        na, nb = mlib.lab2cnt(def_cpred, knn_cpred, trg)\n",
    "        # store p-values and accuracies for current random permutation\n",
    "        all_pval[i, 0] = mlib.mcnemar(na, nb)\n",
    "\n",
    "        pbar.update(1)\n",
    "        pbar.set_postfix_str(\"LogR\", refresh=True)\n",
    "        \n",
    "        # Logistic Regression\n",
    "        logr_param_grid = {\"C\": np.linspace(0.0004,0.0009,11)}\n",
    "        logr_cv = GSCV(LogReg(max_iter=1000), cv = inner_cv,\n",
    "                       param_grid=logr_param_grid,\n",
    "                       n_jobs=-1)\n",
    "        logr_cv.fit(X,trg)\n",
    "        logr_cpred=cvp(logr_cv, X, trg, cv=outer_cv, n_jobs=-1)\n",
    "        #store best C and best score\n",
    "        all_hyperparams[i, 1] = logr_cv.best_params_[\"C\"]\n",
    "        all_acc[i, 2] = accuracy_score(trg, logr_cpred)\n",
    "        # call McNemar to get p-value of outperforming default accuracy\n",
    "        na, nb = mlib.lab2cnt(def_cpred, logr_cpred, trg)\n",
    "        # store p-values and accuracies for current random permutation\n",
    "        all_pval[i, 1] = mlib.mcnemar(na, nb)\n",
    "\n",
    "        pbar.update(1)\n",
    "        pbar.set_postfix_str(\"SVM\", refresh=True)\n",
    "        \n",
    "        # Support Vector Machine\n",
    "        svm_param_grid = {\"C\": np.linspace(0.1,1,10),\n",
    "                          \"gamma\": np.logspace(-4,-2,9)}\n",
    "        svm_cv = GSCV(SVC(), cv = inner_cv,\n",
    "                    param_grid=svm_param_grid,\n",
    "                    n_jobs=-1)\n",
    "        svm_cv.fit(X,trg)\n",
    "        svm_cpred=cvp(svm_cv, X, trg, cv=outer_cv, n_jobs=-1)\n",
    "        #store best C, gamma and best score\n",
    "        all_hyperparams[i, 2] = svm_cv.best_params_[\"C\"]\n",
    "        all_hyperparams[i, 3] = svm_cv.best_params_[\"gamma\"]\n",
    "        all_acc[i, 3] = accuracy_score(trg, svm_cpred)\n",
    "        # call McNemar to get p-value of outperforming default accuracy\n",
    "        na, nb = mlib.lab2cnt(def_cpred, svm_cpred, trg)\n",
    "        # store p-values and accuracies for current random permutation\n",
    "        all_pval[i, 2] = mlib.mcnemar(na, nb)\n",
    "\n",
    "        pbar.update(1)\n",
    "        pbar.set_postfix_str(\"GPC\", refresh=True)\n",
    "        \n",
    "        # Gaussian Process Classifier\n",
    "        gpc_param_grid = {\"kernel\": tstkernels}\n",
    "        gpc_cv = GSCV(GPC(), cv = inner_cv,\n",
    "                      param_grid=gpc_param_grid,\n",
    "                      n_jobs=-1)\n",
    "        gpc_cv.fit(X,trg)\n",
    "        gpc_cpred=cvp(gpc_cv, X, trg, cv=outer_cv, n_jobs=-1)\n",
    "        #store accuracy for each kernel and best score\n",
    "        all_kernels[i, :] = gpc_cv.cv_results_[\"mean_test_score\"]\n",
    "        all_acc[i, 4] = accuracy_score(trg, gpc_cpred)\n",
    "        # call McNemar to get p-value of outperforming default accuracy\n",
    "        na, nb = mlib.lab2cnt(def_cpred, gpc_cpred, trg)\n",
    "        # store p-values and accuracies for current random permutation\n",
    "        all_pval[i, 3] = mlib.mcnemar(na, nb)\n",
    "        \n",
    "        pbar.update(1)\n",
    "        "
   ]
  },
  {
   "cell_type": "markdown",
   "metadata": {
    "colab_type": "text",
    "id": "H_TRlwujIBhC"
   },
   "source": [
    "## Evaluation plots\n",
    "All p-values assess differences between default classification (based on majority voting) and different classifiers with Mc-Nemars test. The p-values are <shown on logit scale. Gemeralisation accuracies are shown on nominal scale. The box plots show the relations in dependency of random permutations. Illustrations vary in dependency of the flags which control which models are tested."
   ]
  },
  {
   "cell_type": "code",
   "execution_count": 15,
   "metadata": {
    "colab": {
     "base_uri": "https://localhost:8080/",
     "height": 293
    },
    "colab_type": "code",
    "executionInfo": {
     "elapsed": 877,
     "status": "ok",
     "timestamp": 1584539660891,
     "user": {
      "displayName": "Peter Sykacek",
      "photoUrl": "https://lh3.googleusercontent.com/a-/AOh14GjlnOmz-mwhW_nTISUz7jStWDjRmDok37MkxknQ=s64",
      "userId": "03469838921117712238"
     },
     "user_tz": -60
    },
    "id": "ipyLtxFRIBhH",
    "outputId": "6a72e6c0-2743-422f-9615-4c43557f65ff"
   },
   "outputs": [],
   "source": [
    "## visualisations.\n",
    "##\n",
    "## first we plot the generalisation accuracies reached for the\n",
    "## different methods and logit transformed McNemar p-values when\n",
    "## comparing against the default classifier We illustrate both as per\n",
    "## method box plots. (e.g. using pandas)\n",
    "\n",
    "# def logit(pvals, myeps=10**-10):\n",
    "#     ## logit transform of p-values to \"unfold\" the underlying metric\n",
    "#     ## make sure the value is > 0\n",
    "#     pvals=np.array(pvals)\n",
    "#     pvals[pvals<myeps]=myeps\n",
    "#     pvals[pvals>1-myeps]=1-myeps\n",
    "#     ## return logit transformed p-values.\n",
    "#     return np.log(pvals)-np.log(1-pvals)\n",
    "\n",
    "all_acc = pd.DataFrame(all_acc, columns=(\"Def\", \"KNN\", \"LogR\", \"SVM\", \"GPC\"))\n",
    "all_pval = pd.DataFrame(all_pval, columns=(\"KNN\", \"LogR\", \"SVM\", \"GPC\"))"
   ]
  },
  {
   "cell_type": "code",
   "execution_count": 16,
   "metadata": {
    "colab": {
     "base_uri": "https://localhost:8080/",
     "height": 293
    },
    "colab_type": "code",
    "executionInfo": {
     "elapsed": 877,
     "status": "ok",
     "timestamp": 1584539660891,
     "user": {
      "displayName": "Peter Sykacek",
      "photoUrl": "https://lh3.googleusercontent.com/a-/AOh14GjlnOmz-mwhW_nTISUz7jStWDjRmDok37MkxknQ=s64",
      "userId": "03469838921117712238"
     },
     "user_tz": -60
    },
    "id": "ipyLtxFRIBhH",
    "outputId": "6a72e6c0-2743-422f-9615-4c43557f65ff"
   },
   "outputs": [
    {
     "data": {
      "image/png": "[encoded data removed]",
      "text/plain": [
       "<Figure size 720x720 with 2 Axes>"
      ]
     },
     "metadata": {
      "needs_background": "light"
     },
     "output_type": "display_data"
    }
   ],
   "source": [
    "fig, ax = plt.subplots(2, 1, figsize=(10,10))\n",
    "fig.suptitle(\"Evaluation of Classifiers\", fontsize=16)\n",
    "ax[0].set_ylabel(\"Accuracy\", fontsize=14)\n",
    "ax[1].set_ylabel(\"p-value\", fontsize=14)\n",
    "\n",
    "ax[0].tick_params(labelsize=12)\n",
    "ax[1].tick_params(labelsize=12)\n",
    "\n",
    "all_acc.boxplot(ax=ax[0], medianprops=dict(linestyle='-', linewidth=1.5, color='red'))\n",
    "all_pval.boxplot(ax=ax[1], medianprops=dict(linestyle='-', linewidth=1.5, color='red'))\n",
    "\n",
    "ax[1].set_yscale(\"logit\") # We used a logit scale for the plot directly, to make it easier to read off the actual p-value"
   ]
  },
  {
   "cell_type": "markdown",
   "metadata": {},
   "source": [
    "From the above plots, we can see that all tested classifiers show an increased accuracy compared to the default classifier. This difference is also significant in all four cases. On average, the best performace was achieved using the gaussian process classifier. "
   ]
  },
  {
   "cell_type": "markdown",
   "metadata": {
    "colab_type": "text",
    "id": "SthiI3NcIBhV"
   },
   "source": [
    "## Hyper parameter distributons"
   ]
  },
  {
   "cell_type": "code",
   "execution_count": 17,
   "metadata": {
    "colab": {
     "base_uri": "https://localhost:8080/",
     "height": 305
    },
    "colab_type": "code",
    "executionInfo": {
     "elapsed": 798,
     "status": "ok",
     "timestamp": 1584539665784,
     "user": {
      "displayName": "Peter Sykacek",
      "photoUrl": "https://lh3.googleusercontent.com/a-/AOh14GjlnOmz-mwhW_nTISUz7jStWDjRmDok37MkxknQ=s64",
      "userId": "03469838921117712238"
     },
     "user_tz": -60
    },
    "id": "vgEMtllPIBha",
    "outputId": "9dbd8802-024e-49c9-d967-25b7ceb04407"
   },
   "outputs": [],
   "source": [
    "## we will now visualise the hyperparameter distributions we\n",
    "## got from permuted data\n",
    "##\n",
    "## we first plot the results for the quantitative hyperparameters\n",
    "all_hyperparams = pd.DataFrame(all_hyperparams, columns=(\"KNN_k\", \"LogR_C\", \"SVM_C\", \"SVM_gamma\"))\n",
    "all_kernels = pd.DataFrame(all_kernels, columns=krnlnams)"
   ]
  },
  {
   "cell_type": "code",
   "execution_count": 18,
   "metadata": {},
   "outputs": [
    {
     "data": {
      "image/png": "[encoded data removed]",
      "text/plain": [
       "<Figure size 720x360 with 4 Axes>"
      ]
     },
     "metadata": {
      "needs_background": "light"
     },
     "output_type": "display_data"
    }
   ],
   "source": [
    "fig, ax = plt.subplots(1, 4, figsize=(10,5))\n",
    "fig.suptitle(\"Quantitative Hyperparameters\", fontsize=16)\n",
    "\n",
    "for i, param in enumerate(all_hyperparams):\n",
    "    all_hyperparams.boxplot(param, ax=ax[i], medianprops=dict(linestyle='-', linewidth=1.5, color='red'))\n",
    "    ax[i].tick_params(labelsize=12)\n",
    "    \n",
    "fig.tight_layout()"
   ]
  },
  {
   "cell_type": "markdown",
   "metadata": {},
   "source": [
    "Except for k in the KNN classifier (which can only take on discrete values), the values for all hyperparameters used in `GridSearchCV` were iteratively optimized so that some spread in the resulting optimal value was achieved. This tells us that the chosen values are close to the optimum and the steps between values are not too large."
   ]
  },
  {
   "cell_type": "code",
   "execution_count": 19,
   "metadata": {},
   "outputs": [
    {
     "data": {
      "image/png": "[encoded data removed]",
      "text/plain": [
       "<Figure size 720x360 with 1 Axes>"
      ]
     },
     "metadata": {
      "needs_background": "light"
     },
     "output_type": "display_data"
    }
   ],
   "source": [
    "fig, ax = plt.subplots(figsize=(10,5))\n",
    "fig.suptitle(\"Comparison GPC Kernels\", fontsize=16)\n",
    "\n",
    "all_kernels.boxplot(ax=ax, medianprops=dict(linestyle='-', linewidth=1.5, color='red'))\n",
    "ax.set_ylabel(\"Accuracy\", fontsize=14)\n",
    "ax.tick_params(labelsize=12)"
   ]
  },
  {
   "cell_type": "markdown",
   "metadata": {},
   "source": [
    "For the gaussian process classifier, in which the only manually optimized hyperparameter is the kernel used, we recorded the accuracy achieved which each kernel (during cross-validation), which is shown in the above plot. While the constant kernel is roughly equivalent to the default classifier, the remaining kernels all exhibit a high accuracy, with the `Matern` kernel being the highest."
   ]
  },
  {
   "cell_type": "code",
   "execution_count": null,
   "metadata": {},
   "outputs": [],
   "source": []
  }
 ],
 "metadata": {
  "colab": {
   "name": "classification.ipynb",
   "provenance": []
  },
  "interpreter": {
   "hash": "6233642075c1ca2a89051e0d882b8c4debe76934b2a972c63f33565dc4d13d62"
  },
  "kernelspec": {
   "display_name": "Python 3 (ipykernel)",
   "language": "python",
   "name": "python3"
  },
  "language_info": {
   "codemirror_mode": {
    "name": "ipython",
    "version": 3
   },
   "file_extension": ".py",
   "mimetype": "text/x-python",
   "name": "python",
   "nbconvert_exporter": "python",
   "pygments_lexer": "ipython3",
   "version": "3.8.12"
  }
 },
 "nbformat": 4,
 "nbformat_minor": 4
}
